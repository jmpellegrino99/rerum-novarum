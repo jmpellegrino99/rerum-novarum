{
 "cells": [
  {
   "cell_type": "code",
   "execution_count": 12,
   "metadata": {},
   "outputs": [],
   "source": [
    "from past_wordle_words import Words\n",
    "import matplotlib.pyplot as plt\n",
    "import pandas as pd"
   ]
  },
  {
   "cell_type": "code",
   "execution_count": 11,
   "metadata": {},
   "outputs": [],
   "source": [
    "current_words = [word.lower() for word in Words.current_words]\n",
    "starting_letter = [word[0] for word in current_words]\n",
    "ending_letter = [word[4] for word in current_words]\n",
    "\n",
    "d = {\n",
    "    \"current_words\": current_words,\n",
    "    \"starting_letter\": starting_letter,\n",
    "    \"ending_letter\": ending_letter\n",
    "}"
   ]
  },
  {
   "cell_type": "code",
   "execution_count": 18,
   "metadata": {},
   "outputs": [
    {
     "data": {
      "text/plain": [
       "ending_letter\n",
       "e    0.205285\n",
       "y    0.131098\n",
       "t    0.125000\n",
       "r    0.083333\n",
       "l    0.066057\n",
       "h    0.060976\n",
       "d    0.052846\n",
       "k    0.047764\n",
       "n    0.046748\n",
       "o    0.028455\n",
       "a    0.028455\n",
       "p    0.022358\n",
       "c    0.019309\n",
       "g    0.017276\n",
       "m    0.015244\n",
       "f    0.012195\n",
       "s    0.012195\n",
       "w    0.008130\n",
       "b    0.006098\n",
       "i    0.004065\n",
       "x    0.003049\n",
       "u    0.002033\n",
       "z    0.002033\n",
       "Name: proportion, dtype: float64"
      ]
     },
     "execution_count": 18,
     "metadata": {},
     "output_type": "execute_result"
    }
   ],
   "source": [
    "df = pd.DataFrame(data=d)\n",
    "# df['starting_letter'].value_counts(True)\n",
    "df['ending_letter'].value_counts(True)"
   ]
  }
 ],
 "metadata": {
  "kernelspec": {
   "display_name": "Python 3",
   "language": "python",
   "name": "python3"
  },
  "language_info": {
   "codemirror_mode": {
    "name": "ipython",
    "version": 3
   },
   "file_extension": ".py",
   "mimetype": "text/x-python",
   "name": "python",
   "nbconvert_exporter": "python",
   "pygments_lexer": "ipython3",
   "version": "3.11.8"
  }
 },
 "nbformat": 4,
 "nbformat_minor": 2
}
