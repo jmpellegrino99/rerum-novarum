{
 "cells": [
  {
   "cell_type": "code",
   "execution_count": 2,
   "id": "9e7712b7-b857-4a12-8789-32b9d5f686be",
   "metadata": {},
   "outputs": [],
   "source": [
    "import folium\n",
    "\n",
    "# Create a map centered on the United States\n",
    "m = folium.Map(location=[37.0902, -95.7129], zoom_start=4)\n",
    "\n",
    "# Add a marker for New York City\n",
    "folium.Marker([40.7128, -74.0060], popup='New York City').add_to(m)\n",
    "\n",
    "# Add a marker for my neighborhood in FLL\n",
    "# 26.144112, -80.136876\n",
    "folium.Marker([26.144112, -80.136876], popup='New York City').add_to(m)\n",
    "\n",
    "# Save the map as an HTML file\n",
    "m.save('us_map.html')"
   ]
  }
 ],
 "metadata": {
  "kernelspec": {
   "display_name": "Python 3 (ipykernel)",
   "language": "python",
   "name": "python3"
  },
  "language_info": {
   "codemirror_mode": {
    "name": "ipython",
    "version": 3
   },
   "file_extension": ".py",
   "mimetype": "text/x-python",
   "name": "python",
   "nbconvert_exporter": "python",
   "pygments_lexer": "ipython3",
   "version": "3.10.10"
  }
 },
 "nbformat": 4,
 "nbformat_minor": 5
}
