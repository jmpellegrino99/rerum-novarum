{
 "cells": [
  {
   "cell_type": "code",
   "execution_count": 11,
   "metadata": {},
   "outputs": [],
   "source": [
    "import requests\n",
    "from bs4 import BeautifulSoup\n",
    "\n",
    "# Set up session to persist cookies\n",
    "session = requests.Session()\n",
    "\n",
    "season = 100\n",
    "day = 10\n",
    "\n",
    "\n",
    "for season in range(100,121):\n",
    "    for day in range(1,26):\n",
    "        MATCH_URL = f\"https://learnedleague.com/match.php?{season}&{day}&\"\n",
    "\n",
    "        # STEP 3: Access the match page (while still authenticated)\n",
    "        match_response = session.get(MATCH_URL)\n",
    "\n",
    "        # Parse with BeautifulSoup\n",
    "        soup = BeautifulSoup(match_response.text, 'html.parser')\n",
    "\n",
    "        # Find all question containers\n",
    "        question_blocks = soup.find_all('div', class_='ind-Q20')\n",
    "\n",
    "        result_string = \"\"\n",
    "\n",
    "        for qb in question_blocks:\n",
    "            # Extract question number\n",
    "            number_tag = qb.find('span', class_='ind-Numb3')\n",
    "            qnum = number_tag.get_text(strip=True) if number_tag else \"?\"\n",
    "\n",
    "            # Get the full text of the div and subtract the question number\n",
    "            full_text = qb.get_text(strip=True)\n",
    "            question = full_text.replace(qnum, '', 1).strip()\n",
    "\n",
    "            # Try to find the corresponding answer (next sibling div)\n",
    "            answer_div = qb.find_next_sibling('div', class_='answer3')\n",
    "            answer_text = answer_div.find('div', class_='a-red').get_text(strip=True) if answer_div else \"N/A\"\n",
    "\n",
    "            result_string += f\"{qnum}: {question}\\nAnswer: {answer_text}\\n\\n\"\n",
    "\n",
    "        with open(f\"learned_league_s{season}_d{day}.txt\", \"w\") as file:\n",
    "            file.write(result_string)"
   ]
  }
 ],
 "metadata": {
  "kernelspec": {
   "display_name": "env",
   "language": "python",
   "name": "python3"
  },
  "language_info": {
   "codemirror_mode": {
    "name": "ipython",
    "version": 3
   },
   "file_extension": ".py",
   "mimetype": "text/x-python",
   "name": "python",
   "nbconvert_exporter": "python",
   "pygments_lexer": "ipython3",
   "version": "3.10.12"
  }
 },
 "nbformat": 4,
 "nbformat_minor": 2
}
