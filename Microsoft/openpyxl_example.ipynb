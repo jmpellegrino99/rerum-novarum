{
 "cells": [
  {
   "cell_type": "code",
   "execution_count": null,
   "id": "5dbe519d-d434-4ec0-bd98-6bb8f9bfa61e",
   "metadata": {},
   "outputs": [],
   "source": [
    "#Assemble Excel workbook:\n",
    "import openpyxl\n",
    "from openpyxl.drawing.image import Image\n",
    "from openpyxl.utils.dataframe import dataframe_to_rows\n",
    "\n",
    "# Create a new Excel workbook\n",
    "wb = openpyxl.Workbook()\n",
    "\n",
    "# Create a sheet called \"README\"\n",
    "readme_sheet = wb.create_sheet(title=\"README\")\n",
    "\n",
    "# Merge cells A1 to E5\n",
    "readme_sheet.merge_cells('A1:E5')\n",
    "\n",
    "# Set the text to Cell A1\n",
    "readme_cell = readme_sheet['A1']\n",
    "readme_cell.value = \"The following tabs contain several charts which, if the preceding cells are re-run, will be updated on an ongoing basis. These charts contain trended data on several indicators key to Redfin's 2023 performance, among them information on home sale quantities, average sale prices, available inventory, waiting time to market, and other useful metrics.\"\n",
    "\n",
    "# Enable text wrapping\n",
    "readme_cell.alignment = openpyxl.styles.Alignment(wrap_text=True)\n",
    "\n",
    "# Paste the underlying SQL table to the workbook:\n",
    "df = result\n",
    "sheet = wb.create_sheet(title=\"Table\")\n",
    "for row in dataframe_to_rows(df, index=False, header=True):\n",
    "    sheet.append(row)\n",
    "\n",
    "# Paste the state ranks table to the workbook:\n",
    "df = state_ranks\n",
    "sheet = wb.create_sheet(title=\"State Ranks\")\n",
    "for row in dataframe_to_rows(df, index=False, header=True):\n",
    "    sheet.append(row)\n",
    "\n",
    "# Paste charts as images to individual tabs in the workbook:\n",
    "for name in imgs:\n",
    "    sheet = wb.create_sheet(title=name.replace(\".png\",\"\"))  # Create a new sheet/tab\n",
    "    chart_image = Image(name)  # Load the saved chart image\n",
    "    chart_image.anchor = 'A1'  # Set the image position in the sheet\n",
    "    sheet.add_image(chart_image)  # Add the image to the sheet\n",
    "\n",
    "#Add in table used for regressing historical quarterly revenue on drivers:\n",
    "df = earnings_join_results\n",
    "sheet = wb.create_sheet(title=\"Revenue Prediction\")\n",
    "for row in dataframe_to_rows(df, index=False, header=True):\n",
    "    sheet.append(row)\n",
    "\n",
    "# Clean up the resulting workbook:\n",
    "if 'Sheet' in wb.sheetnames:\n",
    "    # Get the \"Sheet\" sheet\n",
    "    sheet = wb['Sheet']\n",
    "    # Delete the sheet\n",
    "    wb.remove(sheet)\n",
    "\n",
    "# Save the workbook:\n",
    "wb.save('Point72.xlsx')"
   ]
  }
 ],
 "metadata": {
  "kernelspec": {
   "display_name": "Python 3 (ipykernel)",
   "language": "python",
   "name": "python3"
  },
  "language_info": {
   "codemirror_mode": {
    "name": "ipython",
    "version": 3
   },
   "file_extension": ".py",
   "mimetype": "text/x-python",
   "name": "python",
   "nbconvert_exporter": "python",
   "pygments_lexer": "ipython3",
   "version": "3.11.4"
  }
 },
 "nbformat": 4,
 "nbformat_minor": 5
}
