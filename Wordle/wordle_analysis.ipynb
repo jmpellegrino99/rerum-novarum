{
 "cells": [
  {
   "cell_type": "code",
   "execution_count": 12,
   "metadata": {},
   "outputs": [],
   "source": [
    "from past_wordle_words import Words\n",
    "import matplotlib.pyplot as plt\n",
    "import pandas as pd\n",
    "import numpy as np\n",
    "import sqlite3\n",
    "import re"
   ]
  },
  {
   "cell_type": "code",
   "execution_count": 22,
   "metadata": {},
   "outputs": [],
   "source": [
    "possible_words = pd.read_csv(\"all_5l_words.csv\")\n",
    "all_5l_words = possible_words[\"word\"].tolist()\n",
    "\n",
    "all_starting_letter = [word[0] for word in all_5l_words]\n",
    "all_ending_letter = [word[4] for word in all_5l_words]\n",
    "\n",
    "all_d = {\n",
    "    \"all_words\": all_5l_words,\n",
    "    \"all_start\": all_starting_letter,\n",
    "    \"all_end\": all_ending_letter\n",
    "}"
   ]
  },
  {
   "cell_type": "code",
   "execution_count": 13,
   "metadata": {},
   "outputs": [],
   "source": [
    "def letters_in_common(word1, word2):\n",
    "    distinct_letters = list(set(word1 + word2))\n",
    "    return len(set(word1)) + len(set(word2)) - len(distinct_letters)\n",
    "\n",
    "def avg_matches(test_word):\n",
    "    counts = []\n",
    "    to_test = [word for word in all_5l_words if word != test_word]\n",
    "    for word in to_test:\n",
    "        counts.append(letters_in_common(test_word, word))\n",
    "    return np.mean(counts)\n",
    "\n",
    "#Run to create the average matches dictionary:\n",
    "# frequencies = []\n",
    "# for word in all_5l_words:\n",
    "#     frequencies.append(avg_matches(word))\n",
    "# freq_df = pd.DataFrame(data={\"word\": all_5l_words, \"match_rate\": frequencies})\n",
    "# freq_df.to_csv(\"freq_df.csv\")\n",
    "\n",
    "# dic = pd.read_csv(\"freq_df.csv\")\n",
    "# dic.to_sql(\"dic\", conn, index=False, if_exists=\"replace\")"
   ]
  },
  {
   "cell_type": "code",
   "execution_count": 17,
   "metadata": {},
   "outputs": [],
   "source": [
    "current_words = [word.lower() for word in Words.current_words]\n",
    "starting_letter = [word[0] for word in current_words]\n",
    "ending_letter = [word[4] for word in current_words]\n",
    "\n",
    "current_d = {\n",
    "    \"current_words\": current_words,\n",
    "    \"current_start\": starting_letter,\n",
    "    \"current_end\": ending_letter\n",
    "}"
   ]
  },
  {
   "cell_type": "code",
   "execution_count": 29,
   "metadata": {},
   "outputs": [],
   "source": [
    "all_start_df = pd.DataFrame(data=all_d)['all_start'].value_counts(True).to_dict()\n",
    "current_start_df = pd.DataFrame(data=current_d)['current_start'].value_counts(True).to_dict()"
   ]
  }
 ],
 "metadata": {
  "kernelspec": {
   "display_name": "Python 3",
   "language": "python",
   "name": "python3"
  },
  "language_info": {
   "codemirror_mode": {
    "name": "ipython",
    "version": 3
   },
   "file_extension": ".py",
   "mimetype": "text/x-python",
   "name": "python",
   "nbconvert_exporter": "python",
   "pygments_lexer": "ipython3",
   "version": "3.11.8"
  }
 },
 "nbformat": 4,
 "nbformat_minor": 2
}
