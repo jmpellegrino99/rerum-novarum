{
 "cells": [
  {
   "cell_type": "code",
   "execution_count": 17,
   "metadata": {},
   "outputs": [
    {
     "name": "stdout",
     "output_type": "stream",
     "text": [
      "   x  y  y  y  coalesce(table2.y, table3.y)\n",
      "0  a  1  1  1                             1\n",
      "1  b  2  2  2                             2\n",
      "2  c  3  3  3                             3\n"
     ]
    }
   ],
   "source": [
    "import sqlite3\n",
    "import pandas as pd\n",
    "\n",
    "# Create SQLite connection\n",
    "conn = sqlite3.connect(\"test.db\")\n",
    "\n",
    "# Sample data\n",
    "data = {\n",
    "    \"x\": [\"a\", \"b\", \"c\"],\n",
    "    \"y\": [1, 2, 3]\n",
    "}\n",
    "\n",
    "# Convert dictionary to DataFrame\n",
    "df = pd.DataFrame(data)\n",
    "\n",
    "# Write DataFrame to SQLite (without adding an extra index column)\n",
    "df.to_sql(\"table1\", conn, if_exists=\"replace\", index=False)\n",
    "\n",
    "# Read from SQLite into a DataFrame\n",
    "result_df = pd.read_sql(\"\"\"\n",
    "SELECT\n",
    "table1.*\n",
    ", table2.y\n",
    ", table3.y\n",
    ", coalesce(table2.y, table3.y)\n",
    "FROM table1\n",
    "LEFT JOIN table1 as table2\n",
    "    on table1.x = table2.x\n",
    "LEFT JOIN table1 as table3\n",
    "    on table1.x = table3.x\n",
    ";\n",
    "\"\"\", conn)\n",
    "\n",
    "# Print the DataFrame\n",
    "print(result_df)\n",
    "\n",
    "# Close connection\n",
    "conn.close()\n"
   ]
  }
 ],
 "metadata": {
  "kernelspec": {
   "display_name": "env",
   "language": "python",
   "name": "python3"
  },
  "language_info": {
   "codemirror_mode": {
    "name": "ipython",
    "version": 3
   },
   "file_extension": ".py",
   "mimetype": "text/x-python",
   "name": "python",
   "nbconvert_exporter": "python",
   "pygments_lexer": "ipython3",
   "version": "3.10.12"
  }
 },
 "nbformat": 4,
 "nbformat_minor": 2
}
