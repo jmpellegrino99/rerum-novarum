{
 "cells": [
  {
   "cell_type": "code",
   "execution_count": 4,
   "metadata": {},
   "outputs": [
    {
     "name": "stdout",
     "output_type": "stream",
     "text": [
      "The distance is 129.58 miles.\n"
     ]
    }
   ],
   "source": [
    "import math\n",
    "\n",
    "def haversine(lat1, lon1, lat2, lon2):\n",
    "    \"\"\"\n",
    "    Calculate the great-circle distance between two points\n",
    "    on the Earth's surface specified by latitude and longitude.\n",
    "    \n",
    "    :param lat1: Latitude of the first point in degrees\n",
    "    :param lon1: Longitude of the first point in degrees\n",
    "    :param lat2: Latitude of the second point in degrees\n",
    "    :param lon2: Longitude of the second point in degrees\n",
    "    :return: Distance in kilometers\n",
    "    \"\"\"\n",
    "    \n",
    "    # Radius of the Earth in kilometers\n",
    "    R = 6371.0\n",
    "    \n",
    "    # Convert latitude and longitude from degrees to radians\n",
    "    lat1_rad = math.radians(lat1)\n",
    "    lon1_rad = math.radians(lon1)\n",
    "    lat2_rad = math.radians(lat2)\n",
    "    lon2_rad = math.radians(lon2)\n",
    "    \n",
    "    # Differences in coordinates\n",
    "    dlat = lat2_rad - lat1_rad\n",
    "    dlon = lon2_rad - lon1_rad\n",
    "    \n",
    "    # Haversine formula\n",
    "    a = math.sin(dlat / 2)**2 + math.cos(lat1_rad) * math.cos(lat2_rad) * math.sin(dlon / 2)**2\n",
    "    c = 2 * math.atan2(math.sqrt(a), math.sqrt(1 - a))\n",
    "    \n",
    "    # Distance in kilometers\n",
    "    distance = R * c\n",
    "    \n",
    "    return distance\n",
    "\n",
    "# Example usage\n",
    "lat1, lon1 = 41.25818848431974, -73.13800350865976  # Home\n",
    "lat2, lon2 = 42.3748885799814, -71.11622641448129  # Harvard\n",
    "\n",
    "distance = haversine(lat1, lon1, lat2, lon2) * 0.6213712\n",
    "print(f\"The distance is {distance:.2f} miles.\")"
   ]
  }
 ],
 "metadata": {
  "kernelspec": {
   "display_name": "env",
   "language": "python",
   "name": "python3"
  },
  "language_info": {
   "codemirror_mode": {
    "name": "ipython",
    "version": 3
   },
   "file_extension": ".py",
   "mimetype": "text/x-python",
   "name": "python",
   "nbconvert_exporter": "python",
   "pygments_lexer": "ipython3",
   "version": "3.12.4"
  }
 },
 "nbformat": 4,
 "nbformat_minor": 2
}
