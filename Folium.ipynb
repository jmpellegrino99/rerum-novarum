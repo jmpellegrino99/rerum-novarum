{
 "cells": [
  {
   "cell_type": "code",
   "execution_count": 13,
   "id": "9e7712b7-b857-4a12-8789-32b9d5f686be",
   "metadata": {},
   "outputs": [],
   "source": [
    "import folium\n",
    "\n",
    "# Create a map centered on the United States\n",
    "m = folium.Map(location=[27.0902, -80.7129], zoom_start=8)\n",
    "\n",
    "red_square_icon = folium.DivIcon(\n",
    "    icon_size=(20, 20),  # Adjust the size of the square\n",
    "    html='<div style=\"width: 100%; height: 100%; background-color: red;\"></div>'\n",
    ")\n",
    "\n",
    "green_square_icon = folium.DivIcon(\n",
    "    icon_size=(20, 20),  # Adjust the size of the square\n",
    "    html='<div style=\"width: 100%; height: 100%; background-color: lightgreen;\"></div>'\n",
    ")\n",
    "\n",
    "# Add a marker for New York City\n",
    "folium.Marker(\n",
    "    [40.7128, -74.0060]\n",
    "    , icon=green_square_icon\n",
    "    , popup='New York City').add_to(m)\n",
    "\n",
    "# Add a marker for my neighborhood in FLL\n",
    "# 26.144112, -80.136876\n",
    "folium.Marker(\n",
    "    [26.144112, -80.136876]\n",
    "    , icon=red_square_icon\n",
    "    , popup='Lauderdale').add_to(m)\n",
    "\n",
    "# Save the map as an HTML file\n",
    "m.save('us_map.html')"
   ]
  },
  {
   "cell_type": "code",
   "execution_count": 11,
   "id": "d7cdf34d-5d84-4ce7-843c-0a4dd85055b0",
   "metadata": {},
   "outputs": [
    {
     "data": {
      "text/plain": [
       "['Choropleth',\n",
       " 'Circle',\n",
       " 'CircleMarker',\n",
       " 'ClickForLatLng',\n",
       " 'ClickForMarker',\n",
       " 'ColorLine',\n",
       " 'ColorMap',\n",
       " 'CssLink',\n",
       " 'CustomIcon',\n",
       " 'Div',\n",
       " 'DivIcon',\n",
       " 'Element',\n",
       " 'FeatureGroup',\n",
       " 'Figure',\n",
       " 'FitBounds',\n",
       " 'GeoJson',\n",
       " 'GeoJsonPopup',\n",
       " 'GeoJsonTooltip',\n",
       " 'Html',\n",
       " 'IFrame',\n",
       " 'Icon',\n",
       " 'JavascriptLink',\n",
       " 'LatLngPopup',\n",
       " 'LayerControl',\n",
       " 'LinearColormap',\n",
       " 'Link',\n",
       " 'MacroElement',\n",
       " 'Map',\n",
       " 'Marker',\n",
       " 'PolyLine',\n",
       " 'Polygon',\n",
       " 'Popup',\n",
       " 'Rectangle',\n",
       " 'RegularPolygonMarker',\n",
       " 'StepColormap',\n",
       " 'TileLayer',\n",
       " 'Tooltip',\n",
       " 'TopoJson',\n",
       " 'Vega',\n",
       " 'VegaLite',\n",
       " 'WmsTileLayer',\n",
       " '__all__',\n",
       " '__builtins__',\n",
       " '__cached__',\n",
       " '__doc__',\n",
       " '__file__',\n",
       " '__loader__',\n",
       " '__name__',\n",
       " '__package__',\n",
       " '__path__',\n",
       " '__spec__',\n",
       " '__version__',\n",
       " '_version',\n",
       " 'branca',\n",
       " 'elements',\n",
       " 'features',\n",
       " 'folium',\n",
       " 'map',\n",
       " 'raster_layers',\n",
       " 'sys',\n",
       " 'utilities',\n",
       " 'vector_layers']"
      ]
     },
     "execution_count": 11,
     "metadata": {},
     "output_type": "execute_result"
    }
   ],
   "source": [
    "dir(folium)"
   ]
  }
 ],
 "metadata": {
  "kernelspec": {
   "display_name": "Python 3 (ipykernel)",
   "language": "python",
   "name": "python3"
  },
  "language_info": {
   "codemirror_mode": {
    "name": "ipython",
    "version": 3
   },
   "file_extension": ".py",
   "mimetype": "text/x-python",
   "name": "python",
   "nbconvert_exporter": "python",
   "pygments_lexer": "ipython3",
   "version": "3.10.10"
  }
 },
 "nbformat": 4,
 "nbformat_minor": 5
}
